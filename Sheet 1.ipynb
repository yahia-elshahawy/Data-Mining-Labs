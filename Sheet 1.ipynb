{
 "cells": [
  {
   "cell_type": "markdown",
   "metadata": {},
   "source": [
    "# Q1"
   ]
  },
  {
   "cell_type": "code",
   "execution_count": 80,
   "metadata": {},
   "outputs": [],
   "source": [
    "prices = [5.89,49.59,59.98,159,17.99,56.99,82.75,142.19,31,125.5\n",
    "          ,4.5,22,52.9,61,33.5,328,128,142.19,229,189.4]\n",
    "weights = [1.4,1.5,2.2,2.7,3.2,3.9,4.1,4.1,4.6,4.8,4.9,5.3,5.5,5.8,6.2,8.9,11.6,18.0,22.9,38.2]"
   ]
  },
  {
   "cell_type": "code",
   "execution_count": 81,
   "metadata": {},
   "outputs": [],
   "source": [
    "pricesSorted = sorted(prices)\n",
    "weightsSorted = sorted(weights)"
   ]
  },
  {
   "cell_type": "code",
   "execution_count": 82,
   "metadata": {},
   "outputs": [
    {
     "data": {
      "text/plain": [
       "[4.5,\n",
       " 5.89,\n",
       " 17.99,\n",
       " 22,\n",
       " 31,\n",
       " 33.5,\n",
       " 49.59,\n",
       " 52.9,\n",
       " 56.99,\n",
       " 59.98,\n",
       " 61,\n",
       " 82.75,\n",
       " 125.5,\n",
       " 128,\n",
       " 142.19,\n",
       " 142.19,\n",
       " 159,\n",
       " 189.4,\n",
       " 229,\n",
       " 328]"
      ]
     },
     "execution_count": 82,
     "metadata": {},
     "output_type": "execute_result"
    }
   ],
   "source": [
    "pricesSorted"
   ]
  },
  {
   "cell_type": "code",
   "execution_count": 83,
   "metadata": {},
   "outputs": [
    {
     "data": {
      "text/plain": [
       "[1.4,\n",
       " 1.5,\n",
       " 2.2,\n",
       " 2.7,\n",
       " 3.2,\n",
       " 3.9,\n",
       " 4.1,\n",
       " 4.1,\n",
       " 4.6,\n",
       " 4.8,\n",
       " 4.9,\n",
       " 5.3,\n",
       " 5.5,\n",
       " 5.8,\n",
       " 6.2,\n",
       " 8.9,\n",
       " 11.6,\n",
       " 18.0,\n",
       " 22.9,\n",
       " 38.2]"
      ]
     },
     "execution_count": 83,
     "metadata": {},
     "output_type": "execute_result"
    }
   ],
   "source": [
    "weightsSorted"
   ]
  },
  {
   "cell_type": "markdown",
   "metadata": {},
   "source": [
    "**Q1.a**\n",
    "- Calculate the mean, median, and standard deviation of price and weight."
   ]
  },
  {
   "cell_type": "code",
   "execution_count": 84,
   "metadata": {},
   "outputs": [],
   "source": [
    "import statistics"
   ]
  },
  {
   "cell_type": "code",
   "execution_count": 85,
   "metadata": {},
   "outputs": [
    {
     "name": "stdout",
     "output_type": "stream",
     "text": [
      "Mean of prices-set is : 96.07 \n"
     ]
    }
   ],
   "source": [
    "pricesMean = round(statistics.mean(prices),2)\n",
    "print(\"Mean of prices-set is : % s \"\n",
    "        % (pricesMean))"
   ]
  },
  {
   "cell_type": "code",
   "execution_count": 86,
   "metadata": {},
   "outputs": [
    {
     "name": "stdout",
     "output_type": "stream",
     "text": [
      "Mean of weights-set is : 7.99 \n"
     ]
    }
   ],
   "source": [
    "weightsMean = round(statistics.mean(weights),2)\n",
    "print(\"Mean of weights-set is : % s \"\n",
    "        % (weightsMean))"
   ]
  },
  {
   "cell_type": "code",
   "execution_count": 87,
   "metadata": {},
   "outputs": [
    {
     "name": "stdout",
     "output_type": "stream",
     "text": [
      "Median of prices-set is : 60.489999999999995 \n"
     ]
    }
   ],
   "source": [
    "print(\"Median of prices-set is : % s \"\n",
    "        % (statistics.median(prices)))"
   ]
  },
  {
   "cell_type": "code",
   "execution_count": 88,
   "metadata": {},
   "outputs": [
    {
     "name": "stdout",
     "output_type": "stream",
     "text": [
      "Median of weights-set is : 4.85 \n"
     ]
    }
   ],
   "source": [
    "print(\"Median of weights-set is : % s \"\n",
    "        % (statistics.median(weights)))"
   ]
  },
  {
   "cell_type": "code",
   "execution_count": 89,
   "metadata": {},
   "outputs": [],
   "source": [
    "import numpy as np"
   ]
  },
  {
   "cell_type": "code",
   "execution_count": 90,
   "metadata": {},
   "outputs": [],
   "source": [
    "pricesArr = np.asarray(pricesSorted)\n",
    "weightsArr = np.asarray(weightsSorted)"
   ]
  },
  {
   "cell_type": "code",
   "execution_count": 91,
   "metadata": {},
   "outputs": [
    {
     "data": {
      "text/plain": [
       "array([-91.57, -90.18, -78.08, -74.07, -65.07, -62.57, -46.48, -43.17,\n",
       "       -39.08, -36.09, -35.07, -13.32,  29.43,  31.93,  46.12,  46.12,\n",
       "        62.93,  93.33, 132.93, 231.93])"
      ]
     },
     "execution_count": 91,
     "metadata": {},
     "output_type": "execute_result"
    }
   ],
   "source": [
    "pricesSubMean = pricesArr - pricesMean\n",
    "pricesSubMean"
   ]
  },
  {
   "cell_type": "code",
   "execution_count": 92,
   "metadata": {},
   "outputs": [
    {
     "data": {
      "text/plain": [
       "array([ 8385.0649,  8132.4324,  6096.4864,  5486.3649,  4234.1049,\n",
       "        3915.0049,  2160.3904,  1863.6489,  1527.2464,  1302.4881,\n",
       "        1229.9049,   177.4224,   866.1249,  1019.5249,  2127.0544,\n",
       "        2127.0544,  3960.1849,  8710.4889, 17670.3849, 53791.5249])"
      ]
     },
     "execution_count": 92,
     "metadata": {},
     "output_type": "execute_result"
    }
   ],
   "source": [
    "pricesSubMeanSqu = np.square(pricesSubMean)\n",
    "pricesSubMeanSqu"
   ]
  },
  {
   "cell_type": "code",
   "execution_count": 93,
   "metadata": {},
   "outputs": [
    {
     "data": {
      "text/plain": [
       "array([ 419.253245,  406.62162 ,  304.82432 ,  274.318245,  211.705245,\n",
       "        195.750245,  108.01952 ,   93.182445,   76.36232 ,   65.124405,\n",
       "         61.495245,    8.87112 ,   43.306245,   50.976245,  106.35272 ,\n",
       "        106.35272 ,  198.009245,  435.524445,  883.519245, 2689.576245])"
      ]
     },
     "execution_count": 93,
     "metadata": {},
     "output_type": "execute_result"
    }
   ],
   "source": [
    "pricesSubMeanSquNorm = pricesSubMeanSqu/20\n",
    "pricesSubMeanSquNorm"
   ]
  },
  {
   "cell_type": "code",
   "execution_count": 94,
   "metadata": {},
   "outputs": [
    {
     "data": {
      "text/plain": [
       "6739.145085"
      ]
     },
     "execution_count": 94,
     "metadata": {},
     "output_type": "execute_result"
    }
   ],
   "source": [
    "var_way1 = np.sum(pricesSubMeanSquNorm)\n",
    "var_way1"
   ]
  },
  {
   "cell_type": "code",
   "execution_count": 95,
   "metadata": {},
   "outputs": [
    {
     "data": {
      "text/plain": [
       "6739.15"
      ]
     },
     "execution_count": 95,
     "metadata": {},
     "output_type": "execute_result"
    }
   ],
   "source": [
    "var_way2 = np.var(pricesArr)\n",
    "round(var_way2,2)"
   ]
  },
  {
   "cell_type": "code",
   "execution_count": 96,
   "metadata": {},
   "outputs": [
    {
     "data": {
      "text/plain": [
       "array([-6.59, -6.49, -5.79, -5.29, -4.79, -4.09, -3.89, -3.89, -3.39,\n",
       "       -3.19, -3.09, -2.69, -2.49, -2.19, -1.79,  0.91,  3.61, 10.01,\n",
       "       14.91, 30.21])"
      ]
     },
     "execution_count": 96,
     "metadata": {},
     "output_type": "execute_result"
    }
   ],
   "source": [
    "weightsSubMean = weightsArr - weightsMean\n",
    "weightsSubMean"
   ]
  },
  {
   "cell_type": "code",
   "execution_count": 97,
   "metadata": {},
   "outputs": [
    {
     "data": {
      "text/plain": [
       "array([4.342810e+01, 4.212010e+01, 3.352410e+01, 2.798410e+01,\n",
       "       2.294410e+01, 1.672810e+01, 1.513210e+01, 1.513210e+01,\n",
       "       1.149210e+01, 1.017610e+01, 9.548100e+00, 7.236100e+00,\n",
       "       6.200100e+00, 4.796100e+00, 3.204100e+00, 8.281000e-01,\n",
       "       1.303210e+01, 1.002001e+02, 2.223081e+02, 9.126441e+02])"
      ]
     },
     "execution_count": 97,
     "metadata": {},
     "output_type": "execute_result"
    }
   ],
   "source": [
    "weightsSubMeanSqu = np.square(weightsSubMean)\n",
    "weightsSubMeanSqu"
   ]
  },
  {
   "cell_type": "code",
   "execution_count": 98,
   "metadata": {},
   "outputs": [
    {
     "data": {
      "text/plain": [
       "array([2.1714050e+00, 2.1060050e+00, 1.6762050e+00, 1.3992050e+00,\n",
       "       1.1472050e+00, 8.3640500e-01, 7.5660500e-01, 7.5660500e-01,\n",
       "       5.7460500e-01, 5.0880500e-01, 4.7740500e-01, 3.6180500e-01,\n",
       "       3.1000500e-01, 2.3980500e-01, 1.6020500e-01, 4.1405000e-02,\n",
       "       6.5160500e-01, 5.0100050e+00, 1.1115405e+01, 4.5632205e+01])"
      ]
     },
     "execution_count": 98,
     "metadata": {},
     "output_type": "execute_result"
    }
   ],
   "source": [
    "weightsSubMeanSquNorm = weightsSubMeanSqu/20\n",
    "weightsSubMeanSquNorm"
   ]
  },
  {
   "cell_type": "code",
   "execution_count": 99,
   "metadata": {},
   "outputs": [
    {
     "data": {
      "text/plain": [
       "75.9329"
      ]
     },
     "execution_count": 99,
     "metadata": {},
     "output_type": "execute_result"
    }
   ],
   "source": [
    "var_way1 = np.sum(weightsSubMeanSquNorm)\n",
    "var_way1"
   ]
  },
  {
   "cell_type": "code",
   "execution_count": 100,
   "metadata": {},
   "outputs": [
    {
     "data": {
      "text/plain": [
       "75.93"
      ]
     },
     "execution_count": 100,
     "metadata": {},
     "output_type": "execute_result"
    }
   ],
   "source": [
    "var_way2 = np.var(weightsArr)\n",
    "round(var_way2,2)"
   ]
  },
  {
   "cell_type": "markdown",
   "metadata": {},
   "source": [
    "***Q1.b***\n",
    "- Give the five-number summary for both variables."
   ]
  },
  {
   "cell_type": "code",
   "execution_count": 101,
   "metadata": {},
   "outputs": [],
   "source": [
    "from numpy import percentile"
   ]
  },
  {
   "cell_type": "code",
   "execution_count": 102,
   "metadata": {},
   "outputs": [
    {
     "name": "stdout",
     "output_type": "stream",
     "text": [
      "Min: 4.50\n",
      "Q1: 32.88\n",
      "Median: 60.49\n",
      "Q3: 142.19\n",
      "Max: 328.00\n"
     ]
    }
   ],
   "source": [
    "# calculate quartiles\n",
    "quartiles = percentile(pricesArr, [25, 50, 75])\n",
    "# calculate min/max\n",
    "data_min, data_max = pricesArr.min(), pricesArr.max()\n",
    "# print 5-number summary\n",
    "print('Min: %.2f' % data_min)\n",
    "print('Q1: %.2f' % quartiles[0])\n",
    "print('Median: %.2f' % quartiles[1])\n",
    "print('Q3: %.2f' % quartiles[2])\n",
    "print('Max: %.2f' % data_max)"
   ]
  },
  {
   "cell_type": "code",
   "execution_count": 103,
   "metadata": {},
   "outputs": [
    {
     "name": "stdout",
     "output_type": "stream",
     "text": [
      "Min: 1.40\n",
      "Q1: 3.72\n",
      "Median: 4.85\n",
      "Q3: 6.88\n",
      "Max: 38.20\n"
     ]
    }
   ],
   "source": [
    "# calculate quartiles\n",
    "quartiles = percentile(weightsArr, [25, 50, 75])\n",
    "# calculate min/max\n",
    "data_min, data_max = weightsArr.min(), weightsArr.max()\n",
    "# print 5-number summary\n",
    "print('Min: %.2f' % data_min)\n",
    "print('Q1: %.2f' % quartiles[0])\n",
    "print('Median: %.2f' % quartiles[1])\n",
    "print('Q3: %.2f' % quartiles[2])\n",
    "print('Max: %.2f' % data_max)"
   ]
  },
  {
   "cell_type": "markdown",
   "metadata": {},
   "source": [
    "***Q1.c***\n",
    "- Draw the boxplots for price and weight."
   ]
  },
  {
   "cell_type": "code",
   "execution_count": 104,
   "metadata": {},
   "outputs": [],
   "source": [
    "import matplotlib.pyplot as plt"
   ]
  },
  {
   "cell_type": "code",
   "execution_count": 105,
   "metadata": {},
   "outputs": [
    {
     "data": {
      "text/plain": [
       "{'whiskers': [<matplotlib.lines.Line2D at 0x199ee054ef0>,\n",
       "  <matplotlib.lines.Line2D at 0x199ee0547f0>],\n",
       " 'caps': [<matplotlib.lines.Line2D at 0x199ee0546a0>,\n",
       "  <matplotlib.lines.Line2D at 0x199ee0d5550>],\n",
       " 'boxes': [<matplotlib.lines.Line2D at 0x199ee054be0>],\n",
       " 'medians': [<matplotlib.lines.Line2D at 0x199ee0d51d0>],\n",
       " 'fliers': [<matplotlib.lines.Line2D at 0x199ee0d50b8>],\n",
       " 'means': []}"
      ]
     },
     "execution_count": 105,
     "metadata": {},
     "output_type": "execute_result"
    },
    {
     "data": {
      "image/png": "[encoded data removed]",
      "text/plain": [
       "<Figure size 432x288 with 1 Axes>"
      ]
     },
     "metadata": {},
     "output_type": "display_data"
    }
   ],
   "source": [
    "# horizontal boxes\n",
    "plt.figure()\n",
    "plt.boxplot(pricesArr, 0, 'rs', 0)"
   ]
  },
  {
   "cell_type": "code",
   "execution_count": 106,
   "metadata": {},
   "outputs": [
    {
     "data": {
      "text/plain": [
       "{'whiskers': [<matplotlib.lines.Line2D at 0x199edfca7b8>,\n",
       "  <matplotlib.lines.Line2D at 0x199edfca3c8>],\n",
       " 'caps': [<matplotlib.lines.Line2D at 0x199edf907b8>,\n",
       "  <matplotlib.lines.Line2D at 0x199edf90588>],\n",
       " 'boxes': [<matplotlib.lines.Line2D at 0x199edfca0b8>],\n",
       " 'medians': [<matplotlib.lines.Line2D at 0x199edf90b70>],\n",
       " 'fliers': [<matplotlib.lines.Line2D at 0x199edf90a90>],\n",
       " 'means': []}"
      ]
     },
     "execution_count": 106,
     "metadata": {},
     "output_type": "execute_result"
    },
    {
     "data": {
      "image/png": "[encoded data removed]",
      "text/plain": [
       "<Figure size 432x288 with 1 Axes>"
      ]
     },
     "metadata": {},
     "output_type": "display_data"
    }
   ],
   "source": [
    "# horizontal boxes\n",
    "plt.figure()\n",
    "plt.boxplot(weightsArr, 0, 'rs', 0)"
   ]
  },
  {
   "cell_type": "markdown",
   "metadata": {},
   "source": [
    "***Q1.d*** \n",
    "- Draw a scatter plot based on the two variables."
   ]
  },
  {
   "cell_type": "code",
   "execution_count": 107,
   "metadata": {},
   "outputs": [],
   "source": [
    "import pandas as pd"
   ]
  },
  {
   "cell_type": "code",
   "execution_count": 108,
   "metadata": {},
   "outputs": [],
   "source": [
    "df = pd.DataFrame(data= np.c_[prices, weights],\n",
    "                     columns= np.append('prices', 'weights'))"
   ]
  },
  {
   "cell_type": "code",
   "execution_count": 109,
   "metadata": {},
   "outputs": [
    {
     "name": "stderr",
     "output_type": "stream",
     "text": [
      "C:\\Users\\Yahia\\Anaconda3\\lib\\site-packages\\ipykernel_launcher.py:1: FutureWarning: pandas.scatter_matrix is deprecated, use pandas.plotting.scatter_matrix instead\n",
      "  \"\"\"Entry point for launching an IPython kernel.\n"
     ]
    },
    {
     "data": {
      "image/png": "[encoded data removed]",
      "text/plain": [
       "<Figure size 1008x576 with 4 Axes>"
      ]
     },
     "metadata": {},
     "output_type": "display_data"
    }
   ],
   "source": [
    "pd.scatter_matrix(df, alpha = 1, figsize = (14,8), diagonal = 'kde');"
   ]
  },
  {
   "cell_type": "markdown",
   "metadata": {},
   "source": [
    "# Q2\n",
    "- Given that the following data is noisy, apply an appropriate technique to smooth out\n",
    "    the data. Comment on the effect of the technique on the given data.\n",
    "    Here is the data"
   ]
  },
  {
   "cell_type": "code",
   "execution_count": 112,
   "metadata": {},
   "outputs": [
    {
     "data": {
      "text/plain": [
       "27"
      ]
     },
     "execution_count": 112,
     "metadata": {},
     "output_type": "execute_result"
    }
   ],
   "source": [
    "noisyData = [13, 15,16, 16, 19, 20, 20, 21, 22, 22, 25, 25, 25, 25, 30, 33, 33, 35, 35, 35, 35, 36, 40, 45,\n",
    "46, 52, 70]\n",
    "len(noisyData)"
   ]
  },
  {
   "cell_type": "code",
   "execution_count": 111,
   "metadata": {},
   "outputs": [
    {
     "data": {
      "text/plain": [
       "161.29492455418384"
      ]
     },
     "execution_count": 111,
     "metadata": {},
     "output_type": "execute_result"
    }
   ],
   "source": [
    "var = np.var(np.asarray(noisyData))\n",
    "var"
   ]
  },
  {
   "cell_type": "markdown",
   "metadata": {},
   "source": [
    "***Applied Equi Depth (3) boundary binning***"
   ]
  },
  {
   "cell_type": "code",
   "execution_count": 114,
   "metadata": {},
   "outputs": [
    {
     "data": {
      "text/plain": [
       "27"
      ]
     },
     "execution_count": 114,
     "metadata": {},
     "output_type": "execute_result"
    }
   ],
   "source": [
    "cleanData = [13,16,16,16,20,20,20,22,22,22,25,25,25,25,30,33,33,35,35,35,35,36,36,45,46,46,70]\n",
    "len(cleanData)"
   ]
  },
  {
   "cell_type": "code",
   "execution_count": 115,
   "metadata": {},
   "outputs": [
    {
     "data": {
      "text/plain": [
       "147.9122085048011"
      ]
     },
     "execution_count": 115,
     "metadata": {},
     "output_type": "execute_result"
    }
   ],
   "source": [
    "var = np.var(np.asarray(cleanData))\n",
    "var"
   ]
  },
  {
   "cell_type": "markdown",
   "metadata": {},
   "source": [
    "# Q3"
   ]
  },
  {
   "cell_type": "code",
   "execution_count": 122,
   "metadata": {},
   "outputs": [],
   "source": [
    "X = np.asarray([.69,-1.31,.39,.05,1.29,.49,.19,-.81,-.31,.71])\n",
    "Y = np.asarray([.89,-1.11,.59,.45,1.19,.69,.25,-.71,-.21,.71])"
   ]
  },
  {
   "cell_type": "code",
   "execution_count": 123,
   "metadata": {},
   "outputs": [
    {
     "name": "stdout",
     "output_type": "stream",
     "text": [
      "Mean of prices-set is : 0.138 \n"
     ]
    }
   ],
   "source": [
    "XMean = round(statistics.mean(X),3)\n",
    "print(\"Mean of prices-set is : % s \"\n",
    "        % (XMean))"
   ]
  },
  {
   "cell_type": "code",
   "execution_count": 124,
   "metadata": {},
   "outputs": [
    {
     "name": "stdout",
     "output_type": "stream",
     "text": [
      "Mean of prices-set is : 0.274 \n"
     ]
    }
   ],
   "source": [
    "YMean = round(statistics.mean(Y),3)\n",
    "print(\"Mean of prices-set is : % s \"\n",
    "        % (YMean))"
   ]
  },
  {
   "cell_type": "code",
   "execution_count": 160,
   "metadata": {},
   "outputs": [
    {
     "data": {
      "text/plain": [
       "0.535296"
      ]
     },
     "execution_count": 160,
     "metadata": {},
     "output_type": "execute_result"
    }
   ],
   "source": [
    "varX = np.var(X)\n",
    "varX"
   ]
  },
  {
   "cell_type": "code",
   "execution_count": 161,
   "metadata": {},
   "outputs": [
    {
     "data": {
      "text/plain": [
       "0.4831040000000001"
      ]
     },
     "execution_count": 161,
     "metadata": {},
     "output_type": "execute_result"
    }
   ],
   "source": [
    "varY = np.var(Y)\n",
    "varY"
   ]
  },
  {
   "cell_type": "code",
   "execution_count": 172,
   "metadata": {},
   "outputs": [
    {
     "data": {
      "text/plain": [
       "0.732"
      ]
     },
     "execution_count": 172,
     "metadata": {},
     "output_type": "execute_result"
    }
   ],
   "source": [
    "stdX = round(np.std(X),3)\n",
    "stdX"
   ]
  },
  {
   "cell_type": "code",
   "execution_count": 171,
   "metadata": {},
   "outputs": [
    {
     "data": {
      "text/plain": [
       "0.695"
      ]
     },
     "execution_count": 171,
     "metadata": {},
     "output_type": "execute_result"
    }
   ],
   "source": [
    "stdY = round(np.std(Y),3)\n",
    "stdY"
   ]
  },
  {
   "cell_type": "code",
   "execution_count": 129,
   "metadata": {},
   "outputs": [
    {
     "data": {
      "text/plain": [
       "array([ 0.552, -1.448,  0.252, -0.088,  1.152,  0.352,  0.052, -0.948,\n",
       "       -0.448,  0.572])"
      ]
     },
     "execution_count": 129,
     "metadata": {},
     "output_type": "execute_result"
    }
   ],
   "source": [
    "Xmeaned = X - XMean\n",
    "Xmeaned"
   ]
  },
  {
   "cell_type": "code",
   "execution_count": 130,
   "metadata": {},
   "outputs": [
    {
     "data": {
      "text/plain": [
       "array([ 0.616, -1.384,  0.316,  0.176,  0.916,  0.416, -0.024, -0.984,\n",
       "       -0.484,  0.436])"
      ]
     },
     "execution_count": 130,
     "metadata": {},
     "output_type": "execute_result"
    }
   ],
   "source": [
    "Ymeaned = Y - YMean\n",
    "Ymeaned"
   ]
  },
  {
   "cell_type": "code",
   "execution_count": 144,
   "metadata": {},
   "outputs": [
    {
     "data": {
      "text/plain": [
       "array([ 0.34 ,  2.004,  0.08 , -0.015,  1.055,  0.146, -0.001,  0.933,\n",
       "        0.217,  0.249])"
      ]
     },
     "execution_count": 144,
     "metadata": {},
     "output_type": "execute_result"
    }
   ],
   "source": [
    "np.set_printoptions(suppress=True) # print with no exponent\n",
    "np.round_(Xmeaned * Ymeaned,3)"
   ]
  },
  {
   "cell_type": "markdown",
   "metadata": {},
   "source": [
    "***Q3.a***\n",
    "- Calculate the Pearson correlation coefficient of X and Y. Comment on the result"
   ]
  },
  {
   "cell_type": "code",
   "execution_count": 145,
   "metadata": {},
   "outputs": [],
   "source": [
    "import scipy.stats as sc"
   ]
  },
  {
   "cell_type": "code",
   "execution_count": 147,
   "metadata": {},
   "outputs": [
    {
     "data": {
      "text/plain": [
       "0.9847347256180702"
      ]
     },
     "execution_count": 147,
     "metadata": {},
     "output_type": "execute_result"
    }
   ],
   "source": [
    "sc.pearsonr(X, Y)[0]"
   ]
  },
  {
   "cell_type": "markdown",
   "metadata": {},
   "source": [
    "***Q3.c***\n",
    "- Compute the covariance matrix for the above data set"
   ]
  },
  {
   "cell_type": "code",
   "execution_count": 168,
   "metadata": {},
   "outputs": [
    {
     "data": {
      "text/plain": [
       "array([[0.535, 0.501],\n",
       "       [0.501, 0.483]])"
      ]
     },
     "execution_count": 168,
     "metadata": {},
     "output_type": "execute_result"
    }
   ],
   "source": [
    "np.round_(np.cov(X,Y,bias = 1),3) # biased Covariance , divide on N not N-1"
   ]
  }
 ],
 "metadata": {
  "kernelspec": {
   "display_name": "Python 3",
   "language": "python",
   "name": "python3"
  },
  "language_info": {
   "codemirror_mode": {
    "name": "ipython",
    "version": 3
   },
   "file_extension": ".py",
   "mimetype": "text/x-python",
   "name": "python",
   "nbconvert_exporter": "python",
   "pygments_lexer": "ipython3",
   "version": "3.6.5"
  }
 },
 "nbformat": 4,
 "nbformat_minor": 2
}
