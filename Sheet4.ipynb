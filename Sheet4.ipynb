{
 "cells": [
  {
   "cell_type": "markdown",
   "metadata": {},
   "source": [
    "# Q2"
   ]
  },
  {
   "cell_type": "code",
   "execution_count": 29,
   "metadata": {},
   "outputs": [],
   "source": [
    "import numpy as np\n",
    "from sklearn.linear_model import LinearRegression , Ridge\n",
    "from numpy.linalg import inv\n",
    "np.set_printoptions(suppress=True)"
   ]
  },
  {
   "cell_type": "code",
   "execution_count": 30,
   "metadata": {},
   "outputs": [],
   "source": [
    "X = np.array([[1, 5], [2, 6], [2, 10], [2, 12], [3, 17], [3, 12], [4, 6], [4, 5], [4, 7], [5, 10]])\n",
    "y = np.array([10, 40, 50, 60, 70, 50, 30, 20, 40, 70])"
   ]
  },
  {
   "cell_type": "code",
   "execution_count": 32,
   "metadata": {},
   "outputs": [
    {
     "data": {
      "text/plain": [
       "array([[ 1.,  5.,  1.],\n",
       "       [ 2.,  6.,  1.],\n",
       "       [ 2., 10.,  1.],\n",
       "       [ 2., 12.,  1.],\n",
       "       [ 3., 17.,  1.],\n",
       "       [ 3., 12.,  1.],\n",
       "       [ 4.,  6.,  1.],\n",
       "       [ 4.,  5.,  1.],\n",
       "       [ 4.,  7.,  1.],\n",
       "       [ 5., 10.,  1.]])"
      ]
     },
     "execution_count": 32,
     "metadata": {},
     "output_type": "execute_result"
    }
   ],
   "source": [
    "X_ = np.c_[ X, np.ones(10) ] # [X|1]\n",
    "X_"
   ]
  },
  {
   "cell_type": "code",
   "execution_count": 33,
   "metadata": {},
   "outputs": [
    {
     "data": {
      "text/plain": [
       "array([[104., 270.,  30.],\n",
       "       [270., 948.,  90.],\n",
       "       [ 30.,  90.,  10.]])"
      ]
     },
     "execution_count": 33,
     "metadata": {},
     "output_type": "execute_result"
    }
   ],
   "source": [
    "XXT= np.matmul(X_.T,X_) # X.transpose(X)\n",
    "XXT"
   ]
  },
  {
   "cell_type": "code",
   "execution_count": 34,
   "metadata": {},
   "outputs": [
    {
     "data": {
      "text/plain": [
       "array([[ 0.07142857, -0.        , -0.21428571],\n",
       "       [ 0.        ,  0.00724638, -0.06521739],\n",
       "       [-0.21428571, -0.06521739,  1.32981366]])"
      ]
     },
     "execution_count": 34,
     "metadata": {},
     "output_type": "execute_result"
    }
   ],
   "source": [
    "XXT_inv = inv(XXT) # inverse(X.transpose(X))\n",
    "XXT_inv"
   ]
  },
  {
   "cell_type": "code",
   "execution_count": 35,
   "metadata": {},
   "outputs": [
    {
     "data": {
      "text/plain": [
       "array([ 4.28571429,  4.34782609, -7.98757764])"
      ]
     },
     "execution_count": 35,
     "metadata": {},
     "output_type": "execute_result"
    }
   ],
   "source": [
    "theta = np.matmul(XXT_inv,np.matmul(X_.T,y)) # theta = inverse(X.transpose(X)) . transpose(X) . Y\n",
    "theta"
   ]
  },
  {
   "cell_type": "markdown",
   "metadata": {},
   "source": [
    "# Q3(a)"
   ]
  },
  {
   "cell_type": "code",
   "execution_count": 38,
   "metadata": {},
   "outputs": [
    {
     "name": "stdout",
     "output_type": "stream",
     "text": [
      "theta = [ 4.28571429  4.34782609 -7.98757764]\n"
     ]
    }
   ],
   "source": [
    "regressor = LinearRegression().fit(X, y)\n",
    "print('theta =', np.append(regressor.coef_, regressor.intercept_))"
   ]
  },
  {
   "cell_type": "markdown",
   "metadata": {},
   "source": [
    "# Q3(b),Q4"
   ]
  },
  {
   "cell_type": "code",
   "execution_count": 42,
   "metadata": {},
   "outputs": [
    {
     "name": "stdout",
     "output_type": "stream",
     "text": [
      "Normal Regressor coefficient(theta) =  [ 4.28571429  4.34782609 -7.98757764]\n",
      "Point1 pred = [74.43478261] --- Point2 pred = [17.97515528] --- Point3 pred = [30.83229814] \n",
      "\n",
      "coefficient(theta) with alpha 0.1 = [ 4.25531915  4.34467777 -7.86805737]\n",
      "Point1 pred = [74.41274439] --- Point2 pred = [18.021292] --- Point3 pred = [30.78724945] \n",
      "\n",
      "coefficient(theta) with alpha 1 = [ 4.          4.31654676 -6.84892086]\n",
      "Point1 pred = [74.21582734] --- Point2 pred = [18.41726619] --- Point3 pred = [30.41726619] \n",
      "\n",
      "coefficient(theta) with alpha 10 = [2.5        4.05405405 0.01351351]\n",
      "Point1 pred = [72.37837838] --- Point2 pred = [21.22972973] --- Point3 pred = [28.72972973] \n",
      "\n",
      "coefficient(theta) with alpha 100 = [ 0.52631579  2.5210084  19.731977  ]\n",
      "Point1 pred = [61.64705882] --- Point2 pred = [30.86864219] --- Point3 pred = [32.44758956] \n",
      "\n"
     ]
    }
   ],
   "source": [
    "point1=np.array([[3,16]])\n",
    "point2=np.array([[2,4]])\n",
    "point3=np.array([[5,4]])\n",
    "\n",
    "print(\"Normal Regressor coefficient(theta) = \",np.append(regressor.coef_, regressor.intercept_))\n",
    "y1 = regressor.predict(point1)\n",
    "y2 = regressor.predict(point2)\n",
    "y3 = regressor.predict(point3)\n",
    "print('Point1 pred =',y1,'--- Point2 pred =',y2,'--- Point3 pred =',y3,\"\\n\")\n",
    "\n",
    "for alpha in [0.1,1,10,100]:\n",
    "   regressor_clf = Ridge(alpha=alpha).fit(X, y)\n",
    "   print('coefficient(theta) with alpha {} ='.format(alpha), np.append(regressor_clf.coef_, regressor_clf.intercept_))\n",
    "   \n",
    "   #Q4 \n",
    "   y1 = regressor_clf.predict(point1)\n",
    "   y2 = regressor_clf.predict(point2)\n",
    "   y3 = regressor_clf.predict(point3)\n",
    "   print('Point1 pred =',y1,'--- Point2 pred =',y2,'--- Point3 pred =',y3,\"\\n\")"
   ]
  },
  {
   "cell_type": "code",
   "execution_count": null,
   "metadata": {},
   "outputs": [],
   "source": []
  }
 ],
 "metadata": {
  "kernelspec": {
   "display_name": "Python 3",
   "language": "python",
   "name": "python3"
  },
  "language_info": {
   "codemirror_mode": {
    "name": "ipython",
    "version": 3
   },
   "file_extension": ".py",
   "mimetype": "text/x-python",
   "name": "python",
   "nbconvert_exporter": "python",
   "pygments_lexer": "ipython3",
   "version": "3.6.5"
  }
 },
 "nbformat": 4,
 "nbformat_minor": 2
}
